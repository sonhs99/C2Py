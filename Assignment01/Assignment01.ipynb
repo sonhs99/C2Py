{
  "nbformat": 4,
  "nbformat_minor": 0,
  "metadata": {
    "colab": {
      "name": "Assignment01",
      "provenance": [],
      "collapsed_sections": [],
      "toc_visible": true,
      "authorship_tag": "ABX9TyPa0BB/ILH0RhV4/ZbKuxQM",
      "include_colab_link": true
    },
    "kernelspec": {
      "name": "python3",
      "display_name": "Python 3"
    }
  },
  "cells": [
    {
      "cell_type": "markdown",
      "metadata": {
        "id": "view-in-github",
        "colab_type": "text"
      },
      "source": [
        "<a href=\"https://colab.research.google.com/github/sonhs99/C2Py/blob/master/Assignment01/Assignment01.ipynb\" target=\"_parent\"><img src=\"https://colab.research.google.com/assets/colab-badge.svg\" alt=\"Open In Colab\"/></a>"
      ]
    },
    {
      "cell_type": "markdown",
      "metadata": {
        "id": "eCCbjvHzB_Me",
        "colab_type": "text"
      },
      "source": [
        "# Assignment 01\n",
        "---\n",
        "1. Generate Test Set"
      ]
    },
    {
      "cell_type": "code",
      "metadata": {
        "id": "f65WVOCJCNjZ",
        "colab_type": "code",
        "colab": {
          "base_uri": "https://localhost:8080/",
          "height": 267
        },
        "outputId": "b1da7dcc-9930-4b7c-e456-5c54a00fabcb"
      },
      "source": [
        "import numpy as np\n",
        "from matplotlib import pyplot as plt\n",
        "\n",
        "a = 5\n",
        "b = 6\n",
        "x = 20 * np.random.randn(100)\n",
        "y = a * x + b + 20 * np.random.randn(100)\n",
        "\n",
        "plt.scatter(x, y, c='k')\n",
        "plt.plot(x, a*x + b, 'r')\n",
        "\n",
        "plt.show()"
      ],
      "execution_count": 13,
      "outputs": [
        {
          "output_type": "display_data",
          "data": {
            "image/png": "[encoded data removed]",
            "text/plain": [
              "<Figure size 432x288 with 1 Axes>"
            ]
          },
          "metadata": {
            "tags": []
          }
        }
      ]
    }
  ]
}